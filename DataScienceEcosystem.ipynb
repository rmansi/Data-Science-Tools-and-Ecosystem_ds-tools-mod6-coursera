{
 "cells": [
  {
   "cell_type": "markdown",
   "metadata": {},
   "source": [
    "# Data Science Tools and Ecosystem"
   ]
  },
  {
   "cell_type": "markdown",
   "metadata": {},
   "source": [
    "##### In this notebook, Data Science Tools and Ecosystem are summarized."
   ]
  },
  {
   "cell_type": "markdown",
   "metadata": {},
   "source": [
    "##### The languages used in data science are \n",
    "1. Python, \n",
    "2. R, \n",
    "3. Sql, \n",
    "4. Julia, \n",
    "5. Scala "
   ]
  },
  {
   "cell_type": "markdown",
   "metadata": {},
   "source": [
    "##### The libraries used in data science are \n",
    "1. Pandas, \n",
    "2. Numpy, \n",
    "3. TensorFlow, \n",
    "4. Scipy, \n",
    "5. Matplotlib, \n",
    "6. Keras, \n",
    "7. Scikit-Learn, \n",
    "8. PyTorch "
   ]
  },
  {
   "cell_type": "markdown",
   "metadata": {},
   "source": [
    "##### The data science tools are :\n",
    "| Column 1 |      Tools         | \n",
    "|:---------|:------------------:|\n",
    "|   1      |  Jupyter Notebook  | \n",
    "|   2      |  Apache Spark      |  \n",
    "|   3      |  SAS               |  \n",
    "|   4      |  Tableau           |\n",
    "|   5      |  Apache Hadoop     |\n"
   ]
  },
  {
   "cell_type": "markdown",
   "metadata": {},
   "source": [
    "##### Arithematic Expression Examples:\n",
    "1.Addition (+): \n",
    "```python\n",
    "    result = 5 + 3  # result is 8\n",
    "```\n",
    "2.Subtraction(-): \n",
    " ```python\n",
    "    result = 10 - 4  # result is 6\n",
    "```\n",
    "3.Multiplication(*):\n",
    "```python\n",
    "    result = 7 * 2  # result is 14\n",
    " ```\n",
    "4.Division (/): \n",
    "```python\n",
    "    result = 20 / 5  # result is 4\n",
    "```\n",
    "5.Exponentiation(**): \n",
    "```python\n",
    "    result = 3 ** 2  # result is 9\n",
    "```\n",
    "6.Modulus(%): \n",
    "```python\n",
    "    result = 10 % 3  # result is 1\n",
    "```"
   ]
  },
  {
   "cell_type": "code",
   "execution_count": 14,
   "metadata": {},
   "outputs": [
    {
     "name": "stdout",
     "output_type": "stream",
     "text": [
      "17\n"
     ]
    }
   ],
   "source": [
    "#Multiplying and additing numbers\n",
    "num1 = 3\n",
    "num2 = 4\n",
    "num3 = 5\n",
    "\n",
    "#Multiplication\n",
    "product = (num1)*(num2)\n",
    "#Addition\n",
    "add = product + num3\n",
    "\n",
    "#This a simple arithmetic expression to mutiply then add integers\n",
    "print(add)\n",
    "\n"
   ]
  },
  {
   "cell_type": "code",
   "execution_count": 11,
   "metadata": {},
   "outputs": [
    {
     "name": "stdout",
     "output_type": "stream",
     "text": [
      "number of hours in 3650 minutes is: 3.3333333333333335\n"
     ]
    }
   ],
   "source": [
    "minute = 200 \n",
    "hours = minute/60\n",
    "print(\"number of hours in 3650 minutes is:\",hours)"
   ]
  },
  {
   "cell_type": "markdown",
   "metadata": {},
   "source": [
    "**Objectives**\n",
    "1. List popular languages for data science\n",
    "2. List popular libraries used in data science\n",
    "3. Explain Arithematic Expressions\n",
    "4. Implement Arithematic to make calculations"
   ]
  },
  {
   "cell_type": "markdown",
   "metadata": {},
   "source": [
    "## Author\n",
    "Mansi Rajput"
   ]
  },
  {
   "cell_type": "markdown",
   "metadata": {},
   "source": []
  }
 ],
 "metadata": {
  "kernelspec": {
   "display_name": "Python 3",
   "language": "python",
   "name": "python3"
  },
  "language_info": {
   "codemirror_mode": {
    "name": "ipython",
    "version": 3
   },
   "file_extension": ".py",
   "mimetype": "text/x-python",
   "name": "python",
   "nbconvert_exporter": "python",
   "pygments_lexer": "ipython3",
   "version": "3.10.5"
  }
 },
 "nbformat": 4,
 "nbformat_minor": 2
}
